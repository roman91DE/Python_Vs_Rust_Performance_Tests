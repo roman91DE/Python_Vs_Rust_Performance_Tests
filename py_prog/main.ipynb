{
 "cells": [
  {
   "cell_type": "code",
   "execution_count": 14,
   "metadata": {},
   "outputs": [
    {
     "name": "stdout",
     "output_type": "stream",
     "text": [
      "Files extracted successfully\n"
     ]
    },
    {
     "data": {
      "text/plain": [
       "'\\nExecution Time:\\n28.4 s ± 290 ms per loop (mean ± std. dev. of 7 runs, 1 loop each)\\n'"
      ]
     },
     "execution_count": 14,
     "metadata": {},
     "output_type": "execute_result"
    }
   ],
   "source": [
    "import pathlib\n",
    "import zipfile\n",
    "\n",
    "pw_file = pathlib.Path(\"./data/Ashley_Madison.txt\")\n",
    "zip_file = pathlib.Path(\"./data/protected.zip\")\n",
    "\n",
    "assert pw_file.exists() and zip_file.exists()\n",
    "\n",
    "for password in open(pw_file, mode=\"r\"):\n",
    "    try:\n",
    "        with zipfile.ZipFile(zip_file, 'r') as zf:\n",
    "            zf.extractall('./payload', pwd=password.strip().encode())\n",
    "            print(\"Files extracted successfully\")\n",
    "    except (RuntimeError, zipfile.BadZipFile):\n",
    "            pass\n",
    "\n",
    "\"\"\"\n",
    "Execution Time:\n",
    "28.4 s ± 290 ms per loop (mean ± std. dev. of 7 runs, 1 loop each)\n",
    "\"\"\""
   ]
  },
  {
   "cell_type": "code",
   "execution_count": 24,
   "metadata": {},
   "outputs": [
    {
     "name": "stdout",
     "output_type": "stream",
     "text": [
      "Total Number of Passwords:   375853 ./data/Ashley_Madison.txt\n"
     ]
    }
   ],
   "source": [
    "!echo \"Total Number of Passwords: $(wc -l './data/Ashley_Madison.txt')\""
   ]
  },
  {
   "cell_type": "code",
   "execution_count": null,
   "metadata": {},
   "outputs": [],
   "source": []
  }
 ],
 "metadata": {
  "kernelspec": {
   "display_name": "DataScience",
   "language": "python",
   "name": "python3"
  },
  "language_info": {
   "codemirror_mode": {
    "name": "ipython",
    "version": 3
   },
   "file_extension": ".py",
   "mimetype": "text/x-python",
   "name": "python",
   "nbconvert_exporter": "python",
   "pygments_lexer": "ipython3",
   "version": "3.11.4"
  }
 },
 "nbformat": 4,
 "nbformat_minor": 2
}
